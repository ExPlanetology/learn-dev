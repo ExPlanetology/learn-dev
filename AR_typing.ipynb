{
 "cells": [
  {
   "cell_type": "markdown",
   "id": "d367dcf0",
   "metadata": {},
   "source": [
    "# Additional Reading: Typing\n",
    "\n",
    "**Typing** refers to how programming languages classify and enforce the types of data that can be used&mdash;such as integers, strings, floats, or custom objects. Different languages handle typing in different ways, and understanding these distinctions is helpful for writing robust, maintainable code.\n",
    "\n",
    "## 0. Static vs. dynamic typing\n",
    "\n",
    "Languages are broadly categorised based on how they handle types:\n",
    "\n",
    "- **Statically typed languages** (e.g., Java, C++, Rust) require you to explicitly declare the types of variables and function arguments at compile time. Type checking happens before the program runs, and code that violates type expectations won’t compile.\n",
    "\n",
    "- **Dynamically typed languages** (e.g., Python, JavaScript, Ruby) determine types at runtime. You don’t need to declare variable types explicitly, and types can change as the program runs.\n",
    "\n",
    "Python is a **dynamically typed** language. This means you can write code like:"
   ]
  },
  {
   "cell_type": "code",
   "execution_count": null,
   "id": "a91782da",
   "metadata": {},
   "outputs": [],
   "source": [
    "x = 5  # x is an int\n",
    "x = \"hello\"  # now x is a str"
   ]
  },
  {
   "cell_type": "markdown",
   "id": "46c0093e",
   "metadata": {},
   "source": [
    "Python also follows the philosophy of duck typing: \"If it walks like a duck and quacks like a duck, it’s a duck.\" In other words, you don’t check an object’s type directly, you just use it as long as it behaves the way you expect."
   ]
  },
  {
   "cell_type": "markdown",
   "id": "d6bb695c",
   "metadata": {},
   "source": [
    "## 1. Type hints in Python"
   ]
  },
  {
   "cell_type": "markdown",
   "id": "8ac5c7b0",
   "metadata": {},
   "source": [
    "Although Python doesn’t enforce types at runtime, it supports optional static type hints, introduced in PEP 484 (https://peps.python.org/pep-0484/). Type hints allow you to annotate function arguments and return values, and tools like mypy, pyright, or modern IDEs can use these annotations to catch type errors before you run your code. For example:"
   ]
  },
  {
   "cell_type": "code",
   "execution_count": 3,
   "id": "1c1bf495",
   "metadata": {},
   "outputs": [],
   "source": [
    "some_string: str = \"hello\"\n",
    "some_float: float = 3.14159\n",
    "\n",
    "# Python doesn’t require us to specify types.\n",
    "# These are equally valid:\n",
    "another_string = \"hello again\"\n",
    "another_float = 2.71828\n",
    "\n",
    "# Since the Python interpreter ignores type hints,\n",
    "# inconsistent types won’t raise an error at runtime.\n",
    "# However, IDEs and linters like Pylance will flag these issues:\n",
    "inconsistent_type: str = 5.67  # This is allowed by Python but may trigger a warning in tools"
   ]
  },
  {
   "cell_type": "markdown",
   "id": "3ffb5603",
   "metadata": {},
   "source": [
    "We can similarly add type hints to functions:"
   ]
  },
  {
   "cell_type": "code",
   "execution_count": 4,
   "id": "029e8399",
   "metadata": {},
   "outputs": [],
   "source": [
    "# We can also add type hits to the input arguments and return type of functions\n",
    "def some_function(input_arg1: int, input_arg2: float) -> float:\n",
    "    return input_arg1 + input_arg2"
   ]
  },
  {
   "cell_type": "markdown",
   "id": "46f752d9",
   "metadata": {},
   "source": [
    "Here, `input_arg1` is expected to be an `int`, `input_arg2` a `float`, and the function is expected to return a `float`."
   ]
  },
  {
   "cell_type": "markdown",
   "id": "6c732f5e",
   "metadata": {},
   "source": [
    "## 2. Why use type hints?"
   ]
  },
  {
   "cell_type": "markdown",
   "id": "fde16e7d",
   "metadata": {},
   "source": [
    "Even though Python doesn’t require them, type hints offer several practical benefits:\n",
    "\n",
    "1. Code Clarity and Documentation:\n",
    "\n",
    "    - Type annotations serve as inline documentation, making it immediately clear what kinds of values functions and method expect and return.\n",
    "\n",
    "2. Error Detection:\n",
    "\n",
    "    - Static type checkers can analyse your code and alert you to type mismatches before you ever run it.\n",
    "\n",
    "3. Enhanced IDE Support:\n",
    "\n",
    "    - IDEs like VS Code and PyCharm can use type hints to provide better auto-completion suggestions, inline error detection, and navigation tools.\n",
    "\n",
    "4. Improved Maintenance:\n",
    "\n",
    "    - In large or collaborative codebases, type hints make it easier to refactor safely and understand how different parts of the code fit together.\n",
    "\n",
    "While Python’s flexibility allows for a \"just get it working\" mindset, adding type hints&mdash;especially in function signatures and class definitions&mdash;can improve both the quality and longevity of your code. Typing doesn't take away Python's dynamic nature, but it gives you the option to make your code more explicit, safer, and easier to understand."
   ]
  }
 ],
 "metadata": {
  "kernelspec": {
   "display_name": "software-development",
   "language": "python",
   "name": "python3"
  },
  "language_info": {
   "codemirror_mode": {
    "name": "ipython",
    "version": 3
   },
   "file_extension": ".py",
   "mimetype": "text/x-python",
   "name": "python",
   "nbconvert_exporter": "python",
   "pygments_lexer": "ipython3",
   "version": "3.13.5"
  }
 },
 "nbformat": 4,
 "nbformat_minor": 5
}
