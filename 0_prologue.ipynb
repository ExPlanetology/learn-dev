{
 "cells": [
  {
   "cell_type": "markdown",
   "metadata": {},
   "source": [
    "# Prologue"
   ]
  },
  {
   "cell_type": "markdown",
   "metadata": {},
   "source": [
    "Scientists and researchers often receive little-if any-formal training in software development. Yet even modest modelling projects can quickly evolve into complex software systems, where early design decisions, if poorly made, may lead to significant challenges down the road. In the end, we should all strive to write elegant code—code that:\n",
    "\n",
    "1. Someone understands on their first read\n",
    "2. You revisit 6 months later and smile, not curse\n",
    "3. Adding a new feature feels like snapping in a puzzle piece, not defusing a bomb.\n",
    "\n",
    "Writing elegant code involves many factors, one of which is simply knowing the range of tools and strategies available to support good design. Most scientists are introduced to functional programming: writing individual functions that take inputs and return outputs, assembled using conditional logic like if statements. While this approach is perfectly valid, it often emerges by default rather than from an intentional choice to adopt that particular programming paradigm.\n",
    "\n",
    "A common pitfall&mdash;especially for those coming from non-software backgrounds&mdash;is assuming there is always a single \"correct\" way to implement something. In reality, programming often allows for a wide range of valid approaches, shaped by the programming language, the problem domain, and the guiding design philosophy. The goal is not rigid adherence to rules, but clarity, adaptability, and craftsmanship. Hence the goal of this course is to introduce guiding principles and explore a range of techniques and patterns that you can adopt as appropriate to your own software projects, whether you're developing a quick prototype or building something more lasting.\n",
    "\n",
    "Python will be used as the working language, primarily because it remains one of the most widely applicable languages across both industry and academia. Its flexibility makes it well-suited for demonstrating the full range of concepts we’ll cover. That said, the underlying principles are broadly transferable and largely independent of any specific programming language. It's worth noting, however, that certain languages (e.g., early versions of Fortran) lack full support for object-oriented constructs like classes, which can make certain programming patterns less natural or more cumbersome to express. On the other hand, modern languages like Rust deliberately restrict aspects of traditional class-based design in order to promote safer, more explicit programming practices.\n",
    "\n",
    "The course will adopt the terminology commonly used by computer scientists, as this aligns with most external resources on the topic. While the vocabulary can feel overwhelming at first&mdash;with terms like classes, instances, objects, and methods&mdash;becoming familiar with this language is valuable. It will ultimately make it easier to communicate effectively with computer scientists, who may be collaborators or advisors on your future projects.\n",
    "\n",
    "On a personal note, my motivation for assembling this course stems from hard-earned lessons in contributing to software projects. I came to realise that the art of good software design has historically been underappreciated in academia, largely due to an incentive structure that rarely rewards time invested in robust, maintainable code. Yet good software is essential for ensuring reproducible and transparent science. Thankfully, the tide is beginning to turn, but now more than ever, I believe it’s important to help elevate everyone's appreciation of sound software development practices.\n",
    "\n",
    "This course is still under development. In general, lectures are numbered sequentially, and notebooks related to additional reading are denoted with the `AR_` prefix.\n",
    "\n",
    "*Dr Dan J. Bower, D-EAPS, ETH Zurich*"
   ]
  }
 ],
 "metadata": {
  "kernelspec": {
   "display_name": "software-development",
   "language": "python",
   "name": "python3"
  },
  "language_info": {
   "name": "python",
   "version": "3.13.5"
  }
 },
 "nbformat": 4,
 "nbformat_minor": 2
}
