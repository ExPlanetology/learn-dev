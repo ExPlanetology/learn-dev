{
 "cells": [
  {
   "cell_type": "markdown",
   "metadata": {},
   "source": [
    "# Interfaces\n",
    "\n",
    "We now continue our deep dive into software development by introducing a concept that is both abstract and foundational to modern software design: **interfaces**.\n",
    "\n",
    "Interfaces are a way of defining **how different components of your software interact**. More specifically, they describe a blueprint for what a component must do, without specifying how it must do it. In this sense, interfaces help enforce a consistent structure and contract between parts of your code, enabling modularity, flexibility, and easier collaboration.\n",
    "\n",
    "Although interfaces are not exclusive to object-oriented programming, we’ll introduce them within the context of your newfound appreciation for classes.\n",
    "\n",
    "## Interface definition\n",
    "\n",
    "Recall that in Lecture 1, we define a `Dog` class with some attributes and methods. Now, imagine that another part of your codebase involves animals interacting with each other&mdash;for example, by talking. This part of the program doesn't care whether it's dealing with a `Dog`, a `Cat`, or some other animal. All it needs is for the object to implement a method like `say_hello`.\n",
    "\n",
    "If both `Dog` and `Cat` implement `say_hello`, then from the perspective of the code that handles communication, they are interchangeable&mdash;it can treat them both as \"talking animals\". This is where an *interface* comes in: it defines a required method (in this case, `say_hello`) that any class must implement to be used in this way.\n",
    "\n",
    "By focusing on behaviour rather than implementation details, interfaces allow you to design code that is more general, reusable, and easier to extend. An interface can be defined as follows:"
   ]
  },
  {
   "cell_type": "code",
   "execution_count": null,
   "metadata": {},
   "outputs": [],
   "source": [
    "from typing import Protocol\n",
    "\n",
    "\n",
    "class TalkingAnimalProtocol(Protocol):\n",
    "    # Protocols don't care how an attribute is implemented, only that it exists\n",
    "    name: str\n",
    "\n",
    "    def say_hello(self, friend: str) -> str: ..."
   ]
  },
  {
   "cell_type": "markdown",
   "metadata": {},
   "source": [
    "As simple as that!  Remember that crucially an interface defines a **contract** for behaviour without implementing it. It specifies **method signatures** that any implementing class must fulfill, but it includes **no logic** itself. So, you might be wondering, how do we actually use this interface in practice? Below is a simple example featuring some friendly, communicative animals. Each class implements a `say_hello` method:"
   ]
  },
  {
   "cell_type": "code",
   "execution_count": null,
   "metadata": {},
   "outputs": [],
   "source": [
    "class Crocodile:\n",
    "    \"\"\"A chatty crocodile\n",
    "\n",
    "    Args:\n",
    "        name: Name\n",
    "\n",
    "    Attributes:\n",
    "        name: Name\n",
    "    \"\"\"\n",
    "\n",
    "    def __init__(self, name: str):\n",
    "        self.name: str = name\n",
    "\n",
    "    def say_hello(self, friend: str) -> str:\n",
    "        \"\"\"Say hello to a friend\n",
    "\n",
    "        Args:\n",
    "            Name of the friend\n",
    "\n",
    "        Returns:\n",
    "            A hello message\n",
    "        \"\"\"\n",
    "        return f\"{self.name} the crocodile says: Snap! Hello, {friend}!\"\n",
    "\n",
    "\n",
    "# Docstrings are omitted for brevity but would follow the same pattern as shown above.\n",
    "class Parrot:\n",
    "    def __init__(self, name: str):\n",
    "        self.name: str = name\n",
    "\n",
    "    def say_hello(self, friend: str) -> str:\n",
    "        return f\"{self.name} the parrot says: Squawk! Hello, {friend}!\""
   ]
  },
  {
   "cell_type": "markdown",
   "metadata": {},
   "source": [
    "Next, we instantiate our animal classes to create individual animals:"
   ]
  },
  {
   "cell_type": "code",
   "execution_count": 3,
   "metadata": {},
   "outputs": [],
   "source": [
    "crocodile = Crocodile(\"Chomper\")\n",
    "parrot = Parrot(\"Polly\")"
   ]
  },
  {
   "cell_type": "markdown",
   "metadata": {},
   "source": [
    "We now define a `greet` function and use a type hint to indicate that `TalkingAnimal`s are expected as arguments:"
   ]
  },
  {
   "cell_type": "code",
   "execution_count": null,
   "metadata": {},
   "outputs": [],
   "source": [
    "# Define a greet function using the protocol as a type hint\n",
    "def greet(animal1: TalkingAnimalProtocol, animal2: TalkingAnimalProtocol) -> None:\n",
    "    \"\"\"Animal greeting\n",
    "\n",
    "    Args:\n",
    "        animal1: A talking animal\n",
    "        animal2: A second talking animal\n",
    "    \"\"\"\n",
    "    print(animal1.say_hello(animal2.name))"
   ]
  },
  {
   "cell_type": "markdown",
   "metadata": {},
   "source": [
    "Finally, we can let our two animal friends have a chat:"
   ]
  },
  {
   "cell_type": "code",
   "execution_count": 5,
   "metadata": {},
   "outputs": [
    {
     "name": "stdout",
     "output_type": "stream",
     "text": [
      "Chomper the crocodile says: Snap! Hello, Polly!\n"
     ]
    }
   ],
   "source": [
    "greet(crocodile, parrot)"
   ]
  },
  {
   "cell_type": "markdown",
   "metadata": {},
   "source": [
    "So far, you might be thinking this seems like a lot of effort! Especially in a language like Python, where type hints are not enforced by the interpreter. This means that without additional tooling&mdash;typically provided by an IDE&mdash;you won’t get immediate feedback if something goes wrong. Instead, errors (such as trying to call a `speak` method on an object that doesn’t have one) will only show up at runtime as `AttributeError`s.\n",
    "\n",
    "This is worth highlighting for three reasons:\n",
    "\n",
    "1. **Use of development tools:** In practice, you should take advantage of modern IDEs and their static analysis capabilities. Tools like Pylance/Pyright (used with VS Code) can detect mismatches between your type hints and actual usage, helping you catch bugs early before running the code.\n",
    "\n",
    "2. **Design mindset:** More importantly, the very act of thinking in terms of interfaces **trains you to better understand and structure your codebase**. It helps you reason about which components should interact, what each component needs to know, and what should remain decoupled. This way of thinking is foundational to writing maintainable, extensible software, even if Python doesn't enforce it for you.\n",
    "\n",
    "3. **Transferable concepts:** In other languages like Java, C#, or TypeScript, or Rust, interfaces (or their equivalents like Rust's traits) are part of the language itself and are enforced at compile-time. Understanding how interfaces work, and how to think in terms of contracts and separation of concerns, will serve you well across different programming environments and languages.\n",
    "\n",
    "It’s worth clarifying that in Python, using the `Protocol` class is a way to define what’s called an **implicit interface**. This means you’re describing what an object should look like&mdash;what attributes and methods it should have&mdash;without requiring other classes to formally inherit from it. Because of this, protocols help keep your code more flexible and loosely connected, since different parts of your program can work together as long as they follow the same structure, even if they’re not directly related. This approach fits well with Python’s \"duck typing\" style: if it walks like a duck and quacks like a duck, it’s a duck. Protocols become especially useful when combined with tools like Pyright or Pylance, which can catch mistakes early by checking whether your code actually matches the interface. Next, we’ll explore how inheritance relates to interface design.\n",
    "\n",
    "## What about inheritance?\n",
    "\n",
    "You may be thinking, \"Aha! We’ve already covered classes in Lecture 1, and now we’re discussing interfaces&mdash;yet there’s been (almost) no mention of inheritance.\" That’s absolutely right, and deliberately so. As we’ll see later, inheritance can be powerful when used wisely and sparingly. But overusing it often leads to complexity and maintenance headaches. We’ll touch on these trade-offs throughout the course.\n",
    "\n",
    "> **Inheritance** is a feature in object-oriented programming that allows one class (the child or subclass) to reuse and extend the behaviour of another class (the parent or superclass). It’s a way to share code between related types by building a hierarchy.\n",
    "\n",
    "Historically, inheritance was a foundational concept in object-oriented programming, intended to promote code reuse and shared behaviour. However, over time, developers have encountered practical challenges&mdash;such as deep inheritance chains and tightly coupled designs&mdash;that have made inheritance harder to manage in large systems. As a result, some modern languages like Rust deliberately avoid or restrict traditional class-based inheritance in favor of composition and trait-based approaches. We'll explore these ideas and their relevance to scientific software as we go.\n",
    "\n",
    "**Compared to an implicit interface, an explicit interface requires classes to formally declare that they implement the interface, usually by inheriting from it directly**. This makes the connection more obvious in the code and can help prevent accidental mismatches. While implicit interfaces rely on structural compatibility (\"if it has the right methods, it's valid\"), explicit interfaces enforce a contract: a class must declare that it satisfies the expected behaviour. To complement the *implicit* `TalkingAnimalProtocol` interface we introduced earlier, we'll now define an explicit interface for `TalkingAnimal`&mdash;a formal declaration of the behaviour we expect from any class that wants to be treated as one. Crucially, when we implement *concrete* classes, they will inherit from this interface to make that relationship clear and enforceable.\n",
    "\n",
    "### Explicit interface\n",
    "\n",
    "So without further ado, let’s build our explicit `TalkingAnimal` interface."
   ]
  },
  {
   "cell_type": "code",
   "execution_count": 6,
   "metadata": {},
   "outputs": [],
   "source": [
    "from abc import ABC, abstractmethod"
   ]
  },
  {
   "cell_type": "markdown",
   "metadata": {},
   "source": [
    "The `ABC` base class tells Python this is an abstract base class, whilst `@abstractmethod` marks methods that subclasses must implement. Together, they enforce a method contract in subclasses, ensuring consistent behaviour while still allowing each subclass to provide its own implementation."
   ]
  },
  {
   "cell_type": "code",
   "execution_count": null,
   "metadata": {},
   "outputs": [],
   "source": [
    "class TalkingAnimal(ABC):\n",
    "    \"\"\"A talk animal base class\n",
    "\n",
    "    Args:\n",
    "        name: Name\n",
    "\n",
    "    Attributes:\n",
    "        name: Name\n",
    "    \"\"\"\n",
    "\n",
    "    def __init__(self, name: str):\n",
    "        self.name: str = name\n",
    "\n",
    "    @abstractmethod\n",
    "    def say_hello(self, friend: str) -> str:\n",
    "        \"\"\"Say hello to a friend\n",
    "\n",
    "        Args:\n",
    "            Name of the friend\n",
    "\n",
    "        Returns:\n",
    "            A hello message\n",
    "        \"\"\""
   ]
  },
  {
   "cell_type": "markdown",
   "metadata": {},
   "source": [
    "This class works much like the `Dog` class from Lecture 1, but there’s one key difference: the `@abstractmethod` decorator marks `say_hello()` as a required method. This means `TalkingAnimal` cannot be used directly, and any subclass must define its own version of `say_hello()` before you can create an instance. This helps ensure that every talking animal has a way to “speak,” while still allowing each subclass to decide what that means.\n",
    "\n",
    "Trying to instantiate directly will fail. The `try`-`except` block here is just to catch the error so that the rest of the notebook can continue running:"
   ]
  },
  {
   "cell_type": "code",
   "execution_count": 10,
   "metadata": {},
   "outputs": [
    {
     "name": "stdout",
     "output_type": "stream",
     "text": [
      "TypeError: Can't instantiate abstract class TalkingAnimal without an implementation for abstract method 'say_hello'\n"
     ]
    }
   ],
   "source": [
    "try:\n",
    "    animal = TalkingAnimal(\"Charlie\")\n",
    "except TypeError as e:\n",
    "    print(f\"{type(e).__name__}: {e}\")"
   ]
  },
  {
   "cell_type": "markdown",
   "metadata": {},
   "source": [
    "### Concrete classes\n",
    "\n",
    "To create a class we can instantiate, which is known as a *concrete class*, we start by subclassing (i.e., *inheriting from*) the explicit interface. The explicit interface is also called an *abstract base class*. The we inherit from is written in the parentheses after the class name; this is the “explicit” part. We then provide a concrete implementation of the required `say_hello()` method. In the example below, we define a `Dog` class using our explicit interface. Note that this `Dog` class is a slightly different definition from the one in the first lecture because this class does not have an `age` or `species` attribute:"
   ]
  },
  {
   "cell_type": "code",
   "execution_count": null,
   "metadata": {},
   "outputs": [],
   "source": [
    "class Dog(TalkingAnimal):\n",
    "    \"\"\"A dog\"\"\"\n",
    "\n",
    "    def say_hello(self, friend: str) -> str:\n",
    "        \"\"\"Say hello to a friend\"\"\"\n",
    "        return f\"{self.name} the dog says: Woof! Hello {friend}\""
   ]
  },
  {
   "cell_type": "markdown",
   "metadata": {},
   "source": [
    "**Under the hood, what's happening here?**\n",
    "\n",
    "We've defined a blueprint for a `TalkingAnimal` that requires only one method, `say_hello`, to be implemented.  The `Dog` class provides this method, making it a *concrete* class because it fully satisfies the interface's requirements with its own logic. Since `Dog` inherits from `TalkingAnimal`, it automatically gets all the methods and attributes defined in the base class&mdash;like the `__init__` method&mdash;so there's no need to redefine them unless we want to customise their behaviour. That's why we don't have to re-implement `__init__` in `Dog`. There's clear power in having this blueprint established; we can inherit the base class's behaviour whilst defining a different `say_hello` method tailored to each animal. Let's now define a `Marmot` class as another example:"
   ]
  },
  {
   "cell_type": "code",
   "execution_count": null,
   "metadata": {},
   "outputs": [],
   "source": [
    "class Marmot(TalkingAnimal):\n",
    "    \"\"\"A marmot\"\"\"\n",
    "\n",
    "    def speak(self, friend: str) -> str:\n",
    "        return f\"{self.name} the marmot says: Squeak! Hello {friend}\""
   ]
  },
  {
   "cell_type": "markdown",
   "metadata": {},
   "source": [
    "One of the key reasons classes are so powerful is because they help us follow the **DRY principle**&mdash;*Don’t Repeat Yourself*. By using inheritance, we can avoid duplicating code that’s common to many classes. For example, all talking animals share the same way to store their name and potentially other shared behaviour defined in the base class. Instead of rewriting this in every subclass, we write it once in the base class and simply inherit it. Besides reducing code duplication, classes also provide other advantages like encapsulation, which helps organise and protect data and behaviour, as we discussed in the first lecture.\n",
    "\n",
    "## Implicit or explicit?\n",
    "\n",
    "The natural question now is: **should I use implicit or explicit interfaces?**\n",
    "\n",
    "In practice, you’ll likely use both, depending on the situation. Although it might seem simpler to pick just one for elegance or consistency, each approach has strengths in different contexts.\n",
    "\n",
    "**Explicit interfaces** are great for well-defined entities that fit naturally into a class hierarchy&mdash;especially when there’s significant shared behaviour and you want to create many instances. However, because explicit interfaces rely on inheritance, you must subclass and import the base class wherever you create subclasses. This can lead to a tightly coupled system and sometimes circular import issues due to the constant dependency on the base class.\n",
    "\n",
    "On the other hand, **implicit interfaces** encourage decoupling since no inheritance or base-class imports are needed. You can define as many implicit interfaces as you want, each tailored to a specific function or application, focusing only on the behaviours needed for that case. Implicit interfaces don’t require a full behavioural specification, unlike explicit interfaces that define the entire contract.\n",
    "\n",
    "As with many aspects of software development, there’s no single “right” solution. Thoughtful use of both approaches in appropriate contexts often yields the best results by leveraging the strengths of each where they fit best.\n",
    "\n",
    "**Finally, there’s nothing stopping you from combining these approaches:** you can create an explicit interface to enforce core behaviour and then define multiple implicit interfaces to use throughout your broader codebase, tailoring the interface to each specific need. That is exactly what I do in my projects. This follows the model above: we can define an explicit `TalkingAnimal` interface, as well as a `TalkingAnimalProtocol` for use elsewhere in our code, especially when only certain methods are required.\n",
    "\n",
    "## Exercises\n",
    "\n",
    "TODO"
   ]
  }
 ],
 "metadata": {
  "kernelspec": {
   "display_name": "learn-dev (3.13.5)",
   "language": "python",
   "name": "python3"
  },
  "language_info": {
   "codemirror_mode": {
    "name": "ipython",
    "version": 3
   },
   "file_extension": ".py",
   "mimetype": "text/x-python",
   "name": "python",
   "nbconvert_exporter": "python",
   "pygments_lexer": "ipython3",
   "version": "3.13.5"
  }
 },
 "nbformat": 4,
 "nbformat_minor": 2
}
