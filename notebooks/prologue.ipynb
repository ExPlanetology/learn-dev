{
 "cells": [
  {
   "cell_type": "markdown",
   "metadata": {},
   "source": [
    "# Prologue\n",
    "\n",
    "**\"Any fool can write code that a computer can understand. Good programmers write code that humans can understand.” - Martin Fowler**\n",
    "\n",
    "Scientists and researchers often receive little, if any, formal training in software development. Yet even modest modelling projects can quickly evolve into complex software systems, where early design decisions, if poorly made, may lead to significant challenges down the road.\n",
    "\n",
    "In the end, **we should all strive to write elegant code**&mdash;code that:\n",
    "\n",
    "1. Someone understands on their first read\n",
    "2. You revisit 6 months later and smile, not curse\n",
    "3. Adding a new feature feels like snapping in a puzzle piece, not defusing a bomb.\n",
    "\n",
    "*(Adapted from a widely shared post on LinkedIn; original source unknown)*\n",
    "\n",
    "Writing elegant code involves many factors, one of which is simply knowing the range of tools and strategies available to support good design. Most scientists are introduced to functional programming: writing individual functions that take inputs and return outputs, assembled using conditional logic like if statements. While this approach is perfectly valid, it often emerges by default rather than from an intentional choice to adopt that particular programming paradigm.\n",
    "\n",
    "A common pitfall&mdash;especially for those coming from non-software backgrounds&mdash;is assuming there is always a single \"correct\" way to implement something. In reality, programming often allows for a wide range of valid approaches, shaped by the programming language, the problem domain, and the guiding design philosophy. The goal is not rigid adherence to rules, but clarity, adaptability, and craftsmanship. Hence the goal of this course is to **introduce guiding principles and explore a range of techniques and patterns that you can adopt as appropriate to your own software projects**, whether you're developing a quick prototype or building something more lasting.\n",
    "\n",
    "That said, my personal mantra is always to assume it will be *lasting*. It’s a mindset that encourages writing code with care, even when the task feels temporary.\n",
    "\n",
    "This course is designed to cultivate true software developers&mdash;professionals who not only write code, but also break down complex problems into logical, domain-specific components. While AI tools are actively encouraged for assisting with programming tasks, they currently cannot replace the critical thinking, domain expertise, and architectural insight required to design effective software solutions. This limitation is a strength for you as a learner: it means you’ll develop skills that elevate you well beyond \"programmer\" status and prepare you to lead in an AI-augmented software landscape. This sentiment was recently captured in a LinkedIn post by Hunter Muse, a data engineer, who stated: **\"AI can generate code, but it can't compensate for not understanding the problem you're trying to solve or the questions you don't know how to ask\"**. He went on to advocate for systems thinking&mdash;the ability to see beyond individual components and understand how parts interact within the larger context of a software system&mdash;which will remain essential for a long time.\n",
    "\n",
    "The course will adopt the terminology commonly used by computer scientists, as this aligns with most external resources on the topic. While the vocabulary can feel overwhelming at first&mdash;with terms like classes, instances, objects, and methods&mdash;becoming familiar with this language is valuable. It will ultimately make it easier to communicate effectively with computer scientists, who may be collaborators or advisors on your future projects. Furthermore, this approach helps overcome a common obstacle I often hear expressed: \"Even when I read the online documentation, I still don’t understand it.\" Becoming familiar with the standard terminology makes these resources far more comprehensible and useful.\n",
    "\n",
    "Python will be used as the working language, primarily because it remains one of the most widely applicable languages across both industry and academia. Its flexibility makes it well-suited for demonstrating the full range of concepts we’ll cover. That said, **the underlying principles are broadly transferable and largely independent of any specific programming language**. It's worth noting, however, that certain languages (e.g., early versions of Fortran) lack full support for object-oriented constructs like classes, which can make certain programming patterns less natural or more cumbersome to express. On the other hand, modern languages like Rust deliberately restrict aspects of traditional class-based design in order to promote safer, more explicit programming practices.\n",
    "\n",
    "On a personal note, my motivation for assembling this course stems from hard-earned lessons in contributing to software projects. I came to realise that the art of good software design has historically been underappreciated in academia, largely due to an incentive structure that rarely rewards time invested in robust, maintainable code. Yet **good software is essential for ensuring reproducible and transparent science**. Thankfully, the tide is beginning to turn, but now more than ever, I believe it’s important to help elevate everyone's appreciation of sound software development practices.\n",
    "\n",
    "There are countless resources online for learning software development, and you are, of course, encouraged to make full use of them. This course aims to distinguish itself in several key ways:\n",
    "\n",
    "1. **Top-down learning approach** - Core ideas are introduced through practical code snippets and examples first, with deeper explanations provided later. This makes the material more immediately useful and less abstract.\n",
    "\n",
    "1. **Tailored for scientists and engineers** – This course recognises that many in the scientific and engineering communities lack formal training in software development, and often don’t have the time (or perhaps even the motivation) to wade through dense, programmer-centric literature. Instead, this course focuses on the essential principles, common pitfalls, and a sort of \"survivor’s guide\" to writing good scientific code.\n",
    "\n",
    "In this spirit, the course materials will be made open source, and feedback and suggestions are warmly welcomed. It should be regarded as a living document, evolving in step with best practices in software development. Likewise, it’s worth remembering that **no software project is ever truly complete, including this one; it is through continuous iteration toward an idealised, ever-elusive notion of perfection that the most valuable learning takes place**. I extend my sincere thanks to the friends and colleagues who have shared their insights and helped shape this course.\n",
    "\n",
    "*Dr Dan J. Bower, D-EAPS, ETH Zurich*"
   ]
  }
 ],
 "metadata": {
  "kernelspec": {
   "display_name": "software-development",
   "language": "python",
   "name": "python3"
  },
  "language_info": {
   "name": "python",
   "version": "3.13.5"
  }
 },
 "nbformat": 4,
 "nbformat_minor": 2
}
