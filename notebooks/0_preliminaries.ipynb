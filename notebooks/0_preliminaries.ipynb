{
 "cells": [
  {
   "cell_type": "markdown",
   "id": "1ea9803e",
   "metadata": {},
   "source": [
    "# Preliminaries\n",
    "\n",
    "## Typing\n",
    "\n",
    "Python is a *duck-typed* language, which means you don’t need to declare variable types before using them. This flexibility is one of Python’s strengths. However, it can also lead to confusion&mdash;for example, trying to access a value as if it were a dictionary, only to find it’s actually a float.\n",
    "\n",
    "This becomes especially useful as your project grows in size or complexity, making your code easier to navigate, refactor, and debug&mdash;both for yourself and for others collaborating with you.\n",
    "\n",
    " Importantly, these type hints are not enforced by the Python interpreter, rather, they’re purely for documentation, readability, and tooling support. For instructional purposes, using type hints helps clarify the kinds of data we expect variables to hold, making it easier to understand code and avoid common mistakes. This is why we adopt typing in the course.\n",
    "\n",
    " See `AR_typing.ipynb` for additional reading."
   ]
  },
  {
   "cell_type": "code",
   "execution_count": null,
   "id": "d0429f0c",
   "metadata": {},
   "outputs": [],
   "source": [
    "# Typing example: declaring variable types using type hints\n",
    "some_string: str = \"hello\"\n",
    "some_float: float = 3.14159\n",
    "\n",
    "# Python doesn’t require us to specify types.\n",
    "# These are equally valid:\n",
    "another_string = \"hello again\"\n",
    "another_float = 2.71828"
   ]
  },
  {
   "cell_type": "markdown",
   "id": "8913e034",
   "metadata": {},
   "source": [
    "## Documentation\n",
    "\n",
    "Documentation is often one of the last considerations in academic or research code. However, in this course, we will make it a priority by embedding documentation directly into class definitions using **docstrings**. Similarly, methods will include their own docstrings to explain their purpose and usage. Occasionally, we’ll omit docstrings in examples to keep code snippets compact and focussed, but the habit of documenting your code should be consistent in your own work.\n",
    "\n",
    "See `AR_documentation.ipynb` for more information.\n",
    "\n",
    "## AI assistants\n",
    "\n",
    "Using AI tools like ChatGPT with simple prompts is an excellent way to generate template code that you can modify for your specific needs. It’s also a valuable resource for debugging, explaining unfamiliar code, and accelerating your learning process. Think of it as a powerful assistant for rapid iteration and exploration. For this reason, I don't provide unnecessary or specific code examples in this course, since AI can generate these for you. Instead, the **focus is on core concepts, so that you can understand, critique, and adapt AI-generated code** to suit your particular goals."
   ]
  }
 ],
 "metadata": {
  "language_info": {
   "name": "python"
  }
 },
 "nbformat": 4,
 "nbformat_minor": 5
}
