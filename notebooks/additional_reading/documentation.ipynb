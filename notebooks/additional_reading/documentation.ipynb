{
 "cells": [
  {
   "cell_type": "markdown",
   "id": "f38cb7de",
   "metadata": {},
   "source": [
    "# Documentation\n",
    "\n",
    "Documentation is often one of the last considerations for academic/research code, but here we are going to establish **documentation as a high priority that should be taken seriously from the outset of any software development project**. This is because invariably small projects eventually morph into large projects with multiple contributors and an ever-growing code base. A concise guide to comments and docstrings in provided in 3.8 (Comments and Docstrings) of the [Google style guide](https://google.github.io/styleguide/pyguide.html) and for convenience we will in general follow the same recommendations. Further examples are available as part of the [Example Google Style Python Docstrings](https://www.sphinx-doc.org/en/master/usage/extensions/example_google.html) for Sphinx."
   ]
  }
 ],
 "metadata": {
  "language_info": {
   "name": "python"
  }
 },
 "nbformat": 4,
 "nbformat_minor": 5
}
