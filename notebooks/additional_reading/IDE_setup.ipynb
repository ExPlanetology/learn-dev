{
 "cells": [
  {
   "cell_type": "markdown",
   "id": "b8fb4fb0",
   "metadata": {},
   "source": [
    "# IDE setup\n",
    "\n",
    "While you'll eventually settle on a development setup that suits your preferences, the following provides a basic guide for setting up an interactive development environment (IDE) for your software projects. Many tools are available, but I will focus on the setup I personally use and recommend.\n",
    "\n",
    "Moreover, this Python package includes auxiliary files in the root directory, such as `.vscode/settings.json` that are related to IDE configuration. You are welcome to copy these settings into your own projects if you’d like to replicate the same functionality.\n",
    "\n",
    "Regardless of whether you're working with Python or another language, there are several key advantages to using an IDE:\n",
    "\n",
    "1. **Project Navigation**\n",
    "An IDE provides easy access to the files in your codebase and streamlines common tasks like editing, searching, copy-pasting, and moving between files or functions. Many IDEs also offer advanced features like file outlining, bookmarks, and quick navigation to definitions or references.\n",
    "\n",
    "2. **Code Formatting**\n",
    "Tools like black, ruff, or IDE-integrated formatters automatically format your code according to a consistent style guide. This saves time, eliminates debates over formatting, and ensures that code written by multiple contributors remains consistent and readable.\n",
    "\n",
    "3. **Linting**\n",
    "Linters automatically analyse your code for potential errors, style violations, and anti-patterns. They help catch bugs early, improve code quality, enforce team standards, and keep your project clean and maintainable.\n",
    "\n",
    "4. **Type Checking**\n",
    "If your code includes type annotations, tools like `mypy` or `pyright` can verify type consistency. This helps catch subtle bugs before runtime and provides better integration with autocomplete and documentation features in the IDE.\n",
    "\n",
    "5. **Autocomplete and IntelliSense**\n",
    "Modern IDEs offer powerful autocomplete and \"IntelliSense\" features, which suggest functions, methods, parameters, and even documentation as you type. This increases coding speed and reduces the need to constantly refer to documentation.\n",
    "\n",
    "6. **Debugging Tools**\n",
    "IDEs typically include built-in debuggers, allowing you to step through your code, set breakpoints, inspect variables, and evaluate expressions in real time—essential for diagnosing complex issues.\n",
    "\n",
    "7. **Integrated Terminal and Environment Management**\n",
    "Many IDEs support integrated terminals and environment management, making it easy to run scripts, install dependencies, or activate virtual environments without switching windows.\n",
    "\n",
    "8. **Version Control Integration**\n",
    "Git integration allows you to commit, push, pull, resolve merge conflicts, and review diffs&mdash;all directly from within the IDE interface.\n",
    "\n",
    "We’ll now walk through each of these components in more detail, and I’ll show you how I configure my own environment. Note that my setup evolves over time as I discover new tools and best practices, and I’ll aim to keep this guide updated accordingly.\n",
    "\n",
    "This guide is necessarily compact and intended to give you a starting point. For further reading and more comprehensive information, please refer to the additional resources linked throughout the guide. These references provide in-depth explanations and up-to-date documentation for the tools and techniques mentioned.\n",
    "\n",
    "## Basic setup guide\n",
    "\n",
    "1. **Install VS Code**\n",
    "Download and install Visual Studio Code from https://code.visualstudio.com. Extensive documentation is available at https://code.visualstudio.com/docs.\n",
    "\n",
    "2. **Install Recommended Extensions**\n",
    "Within VS Code, install the following extensions. These directly support the features described in points 2–5 of the previous section (formatting, linting, type checking, and autocomplete):\n",
    "    - **Pylance:** Provides fast, feature-rich language support for Python, including type checking via Pyright.\n",
    "    - **IntelliCode:** Offers AI-assisted code completions and improved suggestions based on context.\n",
    "    - **Ruff:** Enables ultra-fast linting and formatting within VS Code.\n",
    "\n",
    "    I recommend installing these extensions system-wide, as they are beneficial for all (Python) projects. You can also explore extensions that support development in other programming languages.\n",
    "\n",
    "3. **Configure Your Project**\n",
    "A few configuration files in the root directory of this project define workspace-specific behavior:\n",
    "    - **pyrightconfig.json**: Configures Pyright (used by Pylance) for type checking and diagnostics specific to this project.\n",
    "    - **ruff.toml**: Contains Ruff's linting and formatting rules tailored to this project.\n",
    "\n",
    "    Because these files live in the root directory, their settings apply only to this project (also called a workspace in VS Code terminology). If you’d like to apply the same configuration to other projects, simply copy these files into the corresponding directories.\n",
    "\n",
    "    In addition to these, you can define workspace-specific IDE behavior in a file called `.vscode/settings.json`. This configures how VS Code behaves when working with this project.\n",
    "\n",
    "## Python\n",
    "\n",
    "### Package and project manager\n",
    "There are many ways to install and use Python, but regardless of the approach, it is strongly recommended to use isolated environments. This helps keep projects separate and avoids conflicts between package dependencies.\n",
    "\n",
    "I use `uv` (https://docs.astral.sh/uv/), a fast and modern Python package and project manager. Compared to traditional tools like `pip` and `venv`, `uv` offers a much faster installation experience, automatic environment creation, and seamless dependency resolution&mdash;all with a single command. Unlike `conda`, which maintains its own ecosystem, `uv` works directly with standard Python tooling (`pyproject.toml`, `requirements.txt`) and integrates well with tools like `hatch`, `poetry`, or `pdm`. This makes it lightweight, compatible, and ideal for reproducible builds.\n",
    "\n",
    "### Package configuration\n",
    "The `pyproject.toml` file is the standard configuration file for modern Python projects. It defines project metadata (like name, version, and dependencies) and specifies which tools are used for building, formatting, linting, or packaging. It replaces scattered config files (like `setup.py`, `requirements.txt`, `tox.ini`) and allows tools to interoperate cleanly within a single file."
   ]
  },
  {
   "cell_type": "markdown",
   "id": "4c268171",
   "metadata": {},
   "source": [
    "TO BE CONTINUED ..."
   ]
  },
  {
   "cell_type": "markdown",
   "id": "16fc7667",
   "metadata": {},
   "source": [
    "    - reStructuredText\n",
    "    - Todo Tree\n",
    "    - Region Viewer\n",
    "\n",
    "\n",
    "    - Jupyter\n",
    "    - autoDocstring"
   ]
  }
 ],
 "metadata": {
  "language_info": {
   "name": "python"
  }
 },
 "nbformat": 4,
 "nbformat_minor": 5
}
