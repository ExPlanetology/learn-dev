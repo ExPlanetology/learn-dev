{
 "cells": [
  {
   "cell_type": "markdown",
   "id": "a62ee5bf",
   "metadata": {},
   "source": [
    "# Basics\n",
    "\n",
    "If you’re short on time, make this the part you actually read and take in&mdash;it’ll pay off. Getting the basics right in software development doesn’t just make your own life easier&mdash;it makes your code a joy for others to work with. Whether you’re collaborating with colleagues or calling in professional software engineers, clean, well-structured code means they can focus on the hard problems, not waste hours untangling messy logic or squashing sneaky bugs born from poor design choices.\n",
    "\n",
    "If we hand our code off to the experts, we want them to unleash their skills, not play janitor for avoidable mistakes.\n",
    "\n",
    "So, here are a few top tips and a couple of personal pet peeves that will instantly level up your code if you’re not already doing them.\n",
    "\n",
    "1. **Modularity** Your code should be broken into clearly defined modules, each responsible for a specific task or concern&mdash;this is the principle of *separation of concerns*. By keeping unrelated functionality in separate parts of your code, you make it easier to read, test, and maintain, while allowing different sections to evolve independently without breaking everything else.\n",
    "\n",
    "1. **Global variables and scope** Avoid relying on global variables. They make code harder to understand, debug, and maintain because any part of your program can change them, sometimes in unexpected ways. Instead, pass variables explicitly to the functions or classes that need them. Be aware of scope: which parts of your code can “see” and modify a variable. The less hidden cross-talk between different parts of your program, the fewer mysterious bugs you’ll have to hunt down.\n",
    "\n",
    "1. **Documentation and comments** At the very least, comment your code. Remember: comments should explain *why* something is done, while the code itself shows *how* it’s done. In the early prototype stages, it’s far better to over-comment than to leave nothing at all; future you (and anyone else reading your code) will thank you. You can go a step further by learning to write **docstrings**&mdash;structured, in-code documentation that describes a function, class, or module in a standardised way, making your code far easier to understand and use.\n",
    "\n",
    "1. **Do not reimplement standard algorithms** There’s an entire ecosystem of libraries and packages that already implement standard algorithms—often highly optimised, well-tested, and more efficient than a quick in-house version. Use them. Reinventing the wheel not only wastes time but can also introduce subtle bugs.\n",
    "\n",
    "1. **Tests** Write tests for your code&mdash;small snippets that check basic functionality. The principle is to have an *anchor*: something you know works and must not break. Build tests as you develop the code so that the anchor moves forward with you. This way, you’ll catch problems early and avoid completely breaking your codebase during development (which shouldn’t happen anyway if your code is modular&mdash;see point 1).\n",
    "\n",
    "1. **Git** In practice, it’s nearly impossible to work on any software project without using a version control system, and Git is by far the most popular. Git lets you track every change, maintaining a complete history of your project’s development. It works across all major platforms and is highly recommended for managing code efficiently and safely."
   ]
  }
 ],
 "metadata": {
  "kernelspec": {
   "display_name": "learn-dev (3.13.5)",
   "language": "python",
   "name": "python3"
  },
  "language_info": {
   "codemirror_mode": {
    "name": "ipython",
    "version": 3
   },
   "file_extension": ".py",
   "mimetype": "text/x-python",
   "name": "python",
   "nbconvert_exporter": "python",
   "pygments_lexer": "ipython3",
   "version": "3.13.5"
  }
 },
 "nbformat": 4,
 "nbformat_minor": 5
}
