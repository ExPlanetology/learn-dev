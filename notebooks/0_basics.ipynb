{
 "cells": [
  {
   "cell_type": "markdown",
   "id": "a62ee5bf",
   "metadata": {},
   "source": [
    "# Basics\n",
    "\n",
    "If you’re short on time, make this the part you actually read and take in&mdash;it’ll pay off. Getting the basics right in software development doesn’t just make your own life easier&mdash;it makes your code a joy for others to work with. Whether you’re collaborating with colleagues or calling in professional software engineers, clean, well-structured code means they can focus on the hard problems, not waste hours untangling messy logic or squashing sneaky bugs born from poor design choices.\n",
    "\n",
    "If we hand our code off to the experts, we want them to unleash their skills, not play janitor for avoidable mistakes.\n",
    "\n",
    "## Top tips\n",
    "\n",
    "So, here are a few top tips and a couple of personal pet peeves that will instantly level up your code if you’re not already doing them.\n",
    "\n",
    "1. **Modularity** Your code should be broken into clearly defined modules, each responsible for a specific task or concern&mdash;this is the principle of **separation of concerns**. By keeping unrelated functionality in separate parts of your code, you make it easier to read, test, and maintain, whilst allowing different sections to evolve independently without breaking everything else.\n",
    "\n",
    "1. **Keep functions and methods small**\n",
    "Each function or method should do one thing and do it well. Smaller, focused functions are easier to test, debug, and reuse. If you find a function getting too long or complex, it’s often a sign it should be split up.\n",
    "\n",
    "1. **Avoid deep nesting and complex logic**\n",
    "Try to keep your code’s control flow simple and flat. Deeply nested loops or conditionals make code hard to read and understand. Consider early returns or breaking complex logic into smaller helper functions.\n",
    "\n",
    "1. **Consistent naming conventions**\n",
    "Choose clear, descriptive names for variables, functions, and classes&mdash;and stick to a consistent style throughout your project. This makes your code much easier to read and understand. For example, use `snake_case` or `camelCase` consistently, and avoid vague names like `data` or `temp` unless absolutely necessary.\n",
    "\n",
    "1. **Global variables and scope** Avoid relying on global variables. They make code harder to understand, debug, and maintain because any part of your program can change them, sometimes in unexpected ways. Instead, pass variables explicitly to the functions or classes that need them. Be aware of scope: which parts of your code can \"see\" and modify a variable. The less hidden cross-talk between different parts of your program, the fewer mysterious bugs you’ll have to hunt down.\n",
    "\n",
    "1. **Documentation and comments** At the very least, comment your code. Remember: comments should explain *why* something is done, whilst the code itself shows *how* it’s done. In the early prototype stages, it’s far better to over-comment than to leave nothing at all; future you (and anyone else reading your code) will thank you. You can go a step further by learning to write **docstrings**&mdash;structured, in-code documentation that describes a function, class, or module in a standardised way, making your code far easier to understand and use.\n",
    "\n",
    "1. **Do not reimplement standard algorithms** There’s an entire ecosystem of libraries and packages that already implement standard algorithms, which are often highly optimised, well-tested, and more efficient than a quick in-house version. Use them. Reinventing the wheel not only wastes time but can also introduce subtle bugs.\n",
    "\n",
    "1. **Tests** Write tests for your code&mdash;small snippets that check basic functionality. The principle is to have an *anchor*: something you know works and must not break. Build tests as you develop the code so that the anchor moves forward with you. This way, you’ll catch problems early and avoid completely breaking your codebase during development (which shouldn’t happen anyway if your code is modular&mdash;see point 1).\n",
    "\n",
    "1. **Git** In practice, it’s nearly impossible to work on any software project without using a version control system, and Git is by far the most popular. Git lets you track every change, maintaining a complete history of your project’s development. It works across all major platforms and is highly recommended for managing code efficiently and safely.\n",
    "\n",
    "1. **Incremental refactoring** Refactoring is the process of improving code quality, such as removing duplication to follow the **Don't Repeat Yourself (DRY)** principle, without changing its external behavior. When working with legacy code, especially unfamiliar codebases, making changes can feel daunting due to the risk of introducing bugs, particularly if tests are lacking. However, whenever you spot opportunities to clean up small sections of code, take them. Over time, these incremental improvements accumulate, gradually transforming the codebase into a more maintainable and well-structured system.\n",
    "\n",
    "1. **Code rots**. Code is never truly \"finished\". If you’re not actively improving or updating it, your codebase is effectively falling behind. This happens because programming languages, compilers, libraries, and best practices are constantly evolving. Additionally, dependencies on other systems or external code can change, introducing incompatibilities or security risks over time. In other words, \"static\" code gradually becomes outdated, harder to maintain, and less efficient, making inaction equivalent to moving backwards. So basically, if you want your code to remain a valuable, long-term resource for yourself or others, be prepared to invest time regularly in ongoing maintenance and improvements.\n",
    "\n",
    "1. **Avoid premature optimisation**\n",
    "Write clear, correct code first. Optimise only when you have evidence (profiling data) that performance is an issue. Early micro-optimisations can make your code harder to read and maintain without meaningful benefits. For some reason, researchers can fall down the rabbit hole of endless optimisation. The key question to ask yourself is: *\"Is the speed of my code actually preventing me from doing research and writing academic papers?\"* It’s important to consider the entire research pipeline, not just code execution speed. More often than not, the code isn’t the real bottleneck&mdash;it’s just a convenient excuse to keep developing in an unnecessary direction.\n",
    "\n",
    "1. **Use code reviews**\n",
    "Whenever possible, get a second pair of eyes on your code. Code reviews catch bugs, improve style, and spread knowledge across the team, leading to higher-quality and more maintainable code.\n",
    "\n",
    "1. **Handle errors gracefully**\n",
    "Don’t ignore potential errors or edge cases. Use proper error handling, like exceptions or error codes, to ensure your program can recover or at least fail informatively. This helps prevent crashes and makes debugging far easier. Additionally, use **assert statements** to check for validity assumptions during development; these act as internal sanity checks that can catch issues early. Complement this with **logging output** to record important events, warnings, or errors at runtime&mdash;this provides valuable context when troubleshooting problems without interrupting program flow.\n",
    "\n",
    "1. **Automate repetitive tasks**\n",
    "Use scripts, build tools, or continuous integration (CI) pipelines to automate testing, deployment, formatting, or other routine tasks. This saves time, reduces human error, and keeps your workflow consistent.\n",
    "\n",
    "## Setting the stage\n",
    "Writing clean, maintainable code isn’t just a technical skill&mdash;it’s a mindset and an investment. The time you spend upfront organising, documenting, and testing your code pays off many times over in reduced headaches, faster development, and more confident collaboration down the line. Remember, code is a form of communication&mdash;not just to machines, but to your future self and others who will read, use, and build upon your work. Write your code as if the person maintaining it is a ruthless and impatient stranger who must understand it quickly (because often, that person *is* you in a few months).\n",
    "\n",
    "Even with the rise of AI-assisted coding tools, it remains essential that you deeply understand what your code is trying to achieve. AI can help write or optimise code, but it cannot replace your insight into the problem domain, the intended logic, or the design decisions behind your implementation. Without this understanding, it’s easy to produce code that works superficially but fails when faced with edge cases, evolving requirements, or integration challenges.\n",
    "\n",
    "No code is ever perfect or \"done\". It evolves with your project, your team, and the technology landscape. Embrace continuous improvement and learning. Don’t be discouraged by legacy code or technical debt. Legacy code refers to older code that may be hard to understand or maintain, while technical debt means shortcuts or poor design decisions made earlier that now make the code harder to work with. Instead of feeling frustrated or overwhelmed by these challenges, you should view them as chances to improve your skills, learn more about the system, and contribute meaningful improvements. Tackling legacy code or paying down technical debt gives you the opportunity to leave a positive impact&mdash;a “mark”&mdash;on the project by making it cleaner, more efficient, and easier to maintain.\n",
    "\n",
    "Finally, enjoy the process. Software development is creative problem-solving at its core. The better your foundation, the more time and energy you’ll have for innovation, experimentation, and solving the truly challenging problems."
   ]
  }
 ],
 "metadata": {
  "kernelspec": {
   "display_name": "learn-dev (3.13.5)",
   "language": "python",
   "name": "python3"
  },
  "language_info": {
   "codemirror_mode": {
    "name": "ipython",
    "version": 3
   },
   "file_extension": ".py",
   "mimetype": "text/x-python",
   "name": "python",
   "nbconvert_exporter": "python",
   "pygments_lexer": "ipython3",
   "version": "3.13.5"
  }
 },
 "nbformat": 4,
 "nbformat_minor": 5
}
