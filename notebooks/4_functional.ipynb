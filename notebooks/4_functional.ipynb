{
 "cells": [
  {
   "cell_type": "markdown",
   "id": "042e04e2",
   "metadata": {},
   "source": [
    "# Functional programming\n",
    "\n",
    "Most scientists and researchers begin programming with **functions**. Sometimes this is due to the constraints of older languages (e.g. Fortran 77, which had no object-oriented features), and sometimes it’s simply because object-oriented programming (OOP) concepts are less familiar when starting out. Functions provide a natural first step: you give some input, you get some output.\n",
    "\n",
    "Historically, this makes sense too: programming languages for science and engineering (Fortran, C) were designed around procedures and functions. The shift toward object-oriented programming only became widespread later, with the rise of languages such as C++ and Java, which introduced classes, inheritance, and polymorphism as mainstream tools. Today, scientists often encounter both paradigms&mdash;functional and object-oriented&mdash;sometimes within the same language (e.g. Python).\n",
    "\n",
    "## Benefits\n",
    "\n",
    "Up until now, we’ve focused on classes and their advantages for structuring code. But now I’m going to do a switcheroo and show you that functional programming is also an excellent design paradigm. In **functional programming**, programs are organised around functions that take inputs and produce outputs. Much like classes, this approach also benefits from **encapsulation**: in pure functional programming, a given set of inputs always produces the same outputs. There’s no hidden behaviour or unexpected side effects. Some of the benefits of functional programming include:\n",
    "\n",
    "- **Clarity and predictability**: Functions behave like mathematical mappings, so their behaviour is easy to reason about.\n",
    "- **Easier testing**: Since functions have no hidden state, you can test them in isolation with predictable results.\n",
    "- **Reusability and composability**: Small functions can be combined to build more complex behaviour in a clean, modular way.\n",
    "- **Fewer bugs**: Avoiding shared mutable state reduces the chance of subtle, hard-to-find errors.\n",
    "- **Parallelism**: Pure functions that don’t share state are naturally suited for parallel execution, improving scalability.\n",
    "\n",
    "Because it is assumed that you are already broadly familiar with functional programming, we won’t cover it in great detail here. Instead, we’ll focus on a few specific aspects that are especially relevant when contrasting functional and object-oriented styles:\n",
    "\n",
    "- **(Im)mutability**: How data can (or cannot) be changed. In functional programming, data structures are typically treated as immutable, meaning once they are created, their contents cannot be altered. Instead of changing an object in place, you construct a new version with the desired modifications. This may feel inefficient at first, but immutability eliminates a whole class of bugs caused by unexpected changes to shared data. It also makes programs easier to reason about, since the value of a variable cannot mysteriously change somewhere else in the code. Modern languages and libraries optimise immutable operations under the hood, so the performance penalty is often negligible compared to the clarity and reliability gained.\n",
    "- **State and purity**: A pure function is one that always returns the same output for the same input and has no side effects. Side effects include things like modifying global variables, printing to the screen, or writing to a file. Purity makes functions much easier to test and reason about, since their behaviour depends only on their inputs and not on any hidden state. In larger systems, pure functions also compose cleanly&mdash;you can combine them like building blocks without worrying about unexpected interactions. While real-world programs often need some side effects (e.g. to interact with files or users), functional programming encourages you to isolate these at the edges of the system, keeping the core logic pure and predictable.\n",
    "\n",
    "> **State** refers to the stored information that a program or object remembers at a given point in time. It represents the current values of variables, data structures, or attributes that can influence how a program behaves.\n",
    "\n",
    "**A Python reality check**\n",
    "It’s important to note that in Python, **neither immutability nor purity is strictly enforced**. Containers such as lists or dictionaries can be freely mutated inside functions, and functions themselves can easily produce side effects. This flexibility is part of Python’s appeal because it lets you write code quickly and pragmatically without heavy restrictions. But it comes at a potential cost: if you’re not disciplined, mutability and hidden side effects can make programs harder to debug and maintain. In practice, it’s up to the programmer to apply functional programming principles where they add clarity and reliability, while still taking advantage of Python’s flexibility when appropriate.\n",
    "\n",
    "## Functional and OOP\n",
    "\n",
    "As you might have guessed, both OOP and functional programming have their strengths. So, how can we use both without losing the benefits of either? The key is how we handle state versus operations on that state. Functional programming is great for doing predictable transformations and calculations, while OOP is ideal for wrapping up state with the operations that belong to it. By combining them, we can write code that’s clean, modular, and easy to maintain, taking advantage of what each paradigm does best.\n",
    "\n",
    "1. **Reusability of functions**\n",
    "Functional programming encourages writing small, pure functions that can be reused in multiple contexts. When combined with OOP, these functions can be used across different classes, reducing duplication and improving consistency. For example, a mathematical transformation function can be applied to multiple object types without rewriting the logic.\n",
    "\n",
    "1. **Clear separation of concerns**\n",
    "Classes provide a natural place to encapsulate state and behaviour, while functional methods handle transformations and calculations. This allows you to isolate side-effect-free computations from stateful operations, making code easier to test and reason about.\n",
    "\n",
    "1. **Encapsulation of state with functional logic**\n",
    "Objects can carry mutable state, which is often necessary for simulations, GUI elements, or scientific models. By embedding pure functions as methods or helpers, you retain the predictability and composability of functional programming, while still allowing controlled state changes when necessary.\n",
    "\n",
    "1. **Improved readability and maintainability**\n",
    "Using functional patterns inside classes helps to keep methods small and focused, avoiding large, procedural methods that manipulate multiple parts of an object at once. The result is more modular, understandable, and maintainable code.\n",
    "\n",
    "1. **Easier testing and debugging**\n",
    "Pure functional helpers are deterministic and can be tested independently of the object’s state. This makes it simpler to build a suite of tests for both the functions themselves and the classes that use them.\n",
    "\n",
    "1. **Composable behaviour**\n",
    "Functional programming encourages composing small functions into more complex operations. Inside OOP, this allows objects to build behavior dynamically by combining reusable functional components rather than hardcoding every operation inside methods."
   ]
  }
 ],
 "metadata": {
  "language_info": {
   "name": "python"
  }
 },
 "nbformat": 4,
 "nbformat_minor": 5
}
