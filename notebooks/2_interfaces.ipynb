{
 "cells": [
  {
   "cell_type": "markdown",
   "metadata": {},
   "source": [
    "# 2. Interfaces"
   ]
  },
  {
   "cell_type": "markdown",
   "metadata": {},
   "source": [
    "We now continue our deep dive into software development by introducing a concept that is both abstract and foundational to modern software design: **interfaces**.\n",
    "\n",
    "Interfaces are a way of defining how different components of your software interact. More specifically, they describe a blueprint for what a component must do, without specifying how it must do it. In this sense, interfaces help enforce a consistent structure and contract between parts of your code, enabling modularity, flexibility, and easier collaboration.\n",
    "\n",
    "Although interfaces are not exclusive to object-oriented programming, we’ll introduce them within the context of your newfound appreciation for classes, following on from Lecture 1.\n",
    "\n",
    "## 1. Interface definition\n",
    "\n",
    "Recall that in Lecture 1, we define a `Dog` class with some attributes and methods. Now, imagine that another part of your codebase involves animals interacting with each other&mdash;for example, by talking. This part of the program doesn't care whether it's dealing with a `Dog`, a `Cat`, or some other animal. All it needs is for the object to implement a method like `speak`.\n",
    "\n",
    "If both `Dog` and `Cat` implement `speak`, then from the perspective of the code that handles communication, they are interchangeable&mdash;it can treat them both as \"talking animals\". This is where an *interface* comes in: it defines a required method (in this case, `speak`) that any class must implement to be used in this way.\n",
    "\n",
    "By focusing on behaviour rather than implementation details, interfaces allow you to design code that is more general, reusable, and easier to extend. An interface can be defined as follows:"
   ]
  },
  {
   "cell_type": "code",
   "execution_count": null,
   "metadata": {},
   "outputs": [],
   "source": [
    "from typing import Protocol\n",
    "\n",
    "\n",
    "class TalkingAnimal(Protocol):\n",
    "    # Protocols don't care how an attribute is implemented, only that it exists\n",
    "    name: str\n",
    "\n",
    "    def speak(self, other_name: str) -> str: ..."
   ]
  },
  {
   "cell_type": "markdown",
   "metadata": {},
   "source": [
    "As simple as that!  Remember that crucially an interface defines a **contract** for behaviour without implementing it. It specifies **method signatures** that any implementing class must fulfill, but it includes **no logic** itself. So, you might be wondering, how do we actually use this interface in practice? Below is a simple example featuring some friendly, communicative animals. Each class implements a `speak` method:"
   ]
  },
  {
   "cell_type": "code",
   "execution_count": null,
   "metadata": {},
   "outputs": [],
   "source": [
    "class Crocodile:\n",
    "    \"\"\"A chatty crocodile\n",
    "\n",
    "    Args:\n",
    "        name: Name\n",
    "\n",
    "    Attributes:\n",
    "        name: Name\n",
    "    \"\"\"\n",
    "\n",
    "    def __init__(self, name: str):\n",
    "        self.name: str = name\n",
    "\n",
    "    def speak(self, other_name: str) -> str:\n",
    "        \"\"\"Speak to an animal friend\n",
    "\n",
    "        Args:\n",
    "            Name of the animal friend\n",
    "\n",
    "        Returns:\n",
    "            A hello message\n",
    "        \"\"\"\n",
    "        return f\"{self.name} the crocodile says: Snap! Hello, {other_name}!\"\n",
    "\n",
    "\n",
    "# Docstrings are omitted for brevity but would follow the same pattern as shown above.\n",
    "class Parrot:\n",
    "    def __init__(self, name: str):\n",
    "        self.name: str = name\n",
    "\n",
    "    def speak(self, other_name: str) -> str:\n",
    "        return f\"{self.name} the parrot says: Squawk! Hello, {other_name}!\""
   ]
  },
  {
   "cell_type": "markdown",
   "metadata": {},
   "source": [
    "Next, we instantiate our animal classes to create individual animals:"
   ]
  },
  {
   "cell_type": "code",
   "execution_count": null,
   "metadata": {},
   "outputs": [],
   "source": [
    "crocodile = Crocodile(\"Chomper\")\n",
    "parrot = Parrot(\"Polly\")"
   ]
  },
  {
   "cell_type": "markdown",
   "metadata": {},
   "source": [
    "We now define a `greet` function and use a type hint to indicate that a `TalkingAnimal` is expected as an argument:"
   ]
  },
  {
   "cell_type": "code",
   "execution_count": null,
   "metadata": {},
   "outputs": [],
   "source": [
    "# Define a greet function using the protocol as a type hint\n",
    "def greet(animal1: TalkingAnimal, animal2_name: str) -> None:\n",
    "    \"\"\"Animal greeting\n",
    "\n",
    "    Args:\n",
    "        animal1: A talking animal\n",
    "        animal2_name: Name of the second animal\n",
    "    \"\"\"\n",
    "    print(animal1.speak(animal2_name))"
   ]
  },
  {
   "cell_type": "markdown",
   "metadata": {},
   "source": [
    "Finally, we can let our two animal friends have a chat:"
   ]
  },
  {
   "cell_type": "code",
   "execution_count": null,
   "metadata": {},
   "outputs": [],
   "source": [
    "greet(crocodile, parrot.name)"
   ]
  },
  {
   "cell_type": "markdown",
   "metadata": {},
   "source": [
    "So far, you might be thinking this seems like a lot of effort! Especially in a language like Python, where type hints are not enforced by the interpreter. This means that without additional tooling&mdash;typically provided by an IDE&mdash;you won’t get immediate feedback if something goes wrong. Instead, errors (such as trying to call a `speak` method on an object that doesn’t have one) will only show up at runtime as `AttributeError`s.\n",
    "\n",
    "This is worth highlighting for three reasons:\n",
    "\n",
    "1. **Use of development tools:** In practice, you should take advantage of modern IDEs and their static analysis capabilities. Tools like Pylance/Pyright (used with VS Code) can detect mismatches between your type hints and actual usage, helping you catch bugs early—before running the code.\n",
    "2. **Design mindset:** More importantly, the very act of thinking in terms of interfaces trains you to better understand and structure your codebase. It helps you reason about which components should interact, what each component needs to know, and what should remain decoupled. This way of thinking is foundational to writing maintainable, extensible software, even if Python doesn't enforce it for you.\n",
    "3. **Transferable concepts:** In other languages like Java, C#, or TypeScript, interfaces are part of the language itself and are enforced at compile-time. Understanding how interfaces work, and how to think in terms of contracts and separation of concerns, will serve you well across different programming environments and languages."
   ]
  },
  {
   "cell_type": "markdown",
   "metadata": {},
   "source": [
    "## 2. What about inheritance?\n",
    "\n",
    "You may be thinking, \"Aha! We’ve already covered classes in Lecture 1, and now we’re discussing interfaces&mdash;yet there’s been (almost) no mention of inheritance.\" That’s absolutely right, and deliberately so. As we’ll see later, inheritance can be powerful when used wisely and sparingly. But overusing it often leads to complexity and maintenance headaches. We’ll touch on these trade-offs throughout the course."
   ]
  },
  {
   "cell_type": "markdown",
   "metadata": {},
   "source": []
  }
 ],
 "metadata": {
  "kernelspec": {
   "display_name": "software-development",
   "language": "python",
   "name": "python3"
  },
  "language_info": {
   "codemirror_mode": {
    "name": "ipython",
    "version": 3
   },
   "file_extension": ".py",
   "mimetype": "text/x-python",
   "name": "python",
   "nbconvert_exporter": "python",
   "pygments_lexer": "ipython3",
   "version": "3.13.5"
  }
 },
 "nbformat": 4,
 "nbformat_minor": 2
}
