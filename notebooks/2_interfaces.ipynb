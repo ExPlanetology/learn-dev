{
 "cells": [
  {
   "cell_type": "markdown",
   "metadata": {},
   "source": [
    "# Interfaces\n",
    "\n",
    "We now continue our deep dive into software development by introducing a concept that is both abstract and foundational to modern software design: **interfaces**.\n",
    "\n",
    "Interfaces are a way of defining **how different components of your software interact**. More specifically, they describe a blueprint for what a component must do, without specifying how it must do it. In this sense, interfaces help enforce a consistent structure and contract between parts of your code, enabling modularity, flexibility, and easier collaboration.\n",
    "\n",
    "Although interfaces are not exclusive to object-oriented programming, we’ll introduce them within the context of your newfound appreciation for classes.\n",
    "\n",
    "## Interface definition\n",
    "\n",
    "Recall that in Lecture 1, we define a `Dog` class with some attributes and methods. Now, imagine that another part of your codebase involves animals interacting with each other&mdash;for example, by talking. This part of the program doesn't care whether it's dealing with a `Dog`, a `Cat`, or some other animal. All it needs is for the object to implement a method like `speak`.\n",
    "\n",
    "If both `Dog` and `Cat` implement `speak`, then from the perspective of the code that handles communication, they are interchangeable&mdash;it can treat them both as \"talking animals\". This is where an *interface* comes in: it defines a required method (in this case, `speak`) that any class must implement to be used in this way.\n",
    "\n",
    "By focusing on behaviour rather than implementation details, interfaces allow you to design code that is more general, reusable, and easier to extend. An interface can be defined as follows:"
   ]
  },
  {
   "cell_type": "code",
   "execution_count": null,
   "metadata": {},
   "outputs": [],
   "source": [
    "from typing import Protocol\n",
    "\n",
    "\n",
    "class TalkingAnimalProtocol(Protocol):\n",
    "    # Protocols don't care how an attribute is implemented, only that it exists\n",
    "    name: str\n",
    "\n",
    "    def speak(self, other_name: str) -> str: ..."
   ]
  },
  {
   "cell_type": "markdown",
   "metadata": {},
   "source": [
    "As simple as that!  Remember that crucially an interface defines a **contract** for behaviour without implementing it. It specifies **method signatures** that any implementing class must fulfill, but it includes **no logic** itself. So, you might be wondering, how do we actually use this interface in practice? Below is a simple example featuring some friendly, communicative animals. Each class implements a `speak` method:"
   ]
  },
  {
   "cell_type": "code",
   "execution_count": null,
   "metadata": {},
   "outputs": [],
   "source": [
    "class Crocodile:\n",
    "    \"\"\"A chatty crocodile\n",
    "\n",
    "    Args:\n",
    "        name: Name\n",
    "\n",
    "    Attributes:\n",
    "        name: Name\n",
    "    \"\"\"\n",
    "\n",
    "    def __init__(self, name: str):\n",
    "        self.name: str = name\n",
    "\n",
    "    def speak(self, other_name: str) -> str:\n",
    "        \"\"\"Speak to an animal friend\n",
    "\n",
    "        Args:\n",
    "            Name of the animal friend\n",
    "\n",
    "        Returns:\n",
    "            A hello message\n",
    "        \"\"\"\n",
    "        return f\"{self.name} the crocodile says: Snap! Hello, {other_name}!\"\n",
    "\n",
    "\n",
    "# Docstrings are omitted for brevity but would follow the same pattern as shown above.\n",
    "class Parrot:\n",
    "    def __init__(self, name: str):\n",
    "        self.name: str = name\n",
    "\n",
    "    def speak(self, other_name: str) -> str:\n",
    "        return f\"{self.name} the parrot says: Squawk! Hello, {other_name}!\""
   ]
  },
  {
   "cell_type": "markdown",
   "metadata": {},
   "source": [
    "Next, we instantiate our animal classes to create individual animals:"
   ]
  },
  {
   "cell_type": "code",
   "execution_count": null,
   "metadata": {},
   "outputs": [],
   "source": [
    "crocodile = Crocodile(\"Chomper\")\n",
    "parrot = Parrot(\"Polly\")"
   ]
  },
  {
   "cell_type": "markdown",
   "metadata": {},
   "source": [
    "We now define a `greet` function and use a type hint to indicate that `TalkingAnimal`s are expected as arguments:"
   ]
  },
  {
   "cell_type": "code",
   "execution_count": null,
   "metadata": {},
   "outputs": [],
   "source": [
    "# Define a greet function using the protocol as a type hint\n",
    "def greet(animal1: TalkingAnimalProtocol, animal2: TalkingAnimalProtocol) -> None:\n",
    "    \"\"\"Animal greeting\n",
    "\n",
    "    Args:\n",
    "        animal1: A talking animal\n",
    "        animal2: A second talking animal\n",
    "    \"\"\"\n",
    "    print(animal1.speak(animal2.name))"
   ]
  },
  {
   "cell_type": "markdown",
   "metadata": {},
   "source": [
    "Finally, we can let our two animal friends have a chat:"
   ]
  },
  {
   "cell_type": "code",
   "execution_count": null,
   "metadata": {},
   "outputs": [],
   "source": [
    "greet(crocodile, parrot)"
   ]
  },
  {
   "cell_type": "markdown",
   "metadata": {},
   "source": [
    "So far, you might be thinking this seems like a lot of effort! Especially in a language like Python, where type hints are not enforced by the interpreter. This means that without additional tooling&mdash;typically provided by an IDE&mdash;you won’t get immediate feedback if something goes wrong. Instead, errors (such as trying to call a `speak` method on an object that doesn’t have one) will only show up at runtime as `AttributeError`s.\n",
    "\n",
    "This is worth highlighting for three reasons:\n",
    "\n",
    "1. **Use of development tools:** In practice, you should take advantage of modern IDEs and their static analysis capabilities. Tools like Pylance/Pyright (used with VS Code) can detect mismatches between your type hints and actual usage, helping you catch bugs early before running the code.\n",
    "\n",
    "2. **Design mindset:** More importantly, the very act of thinking in terms of interfaces **trains you to better understand and structure your codebase**. It helps you reason about which components should interact, what each component needs to know, and what should remain decoupled. This way of thinking is foundational to writing maintainable, extensible software, even if Python doesn't enforce it for you.\n",
    "\n",
    "3. **Transferable concepts:** In other languages like Java, C#, or TypeScript, or Rust, interfaces (or their equivalents like Rust's traits) are part of the language itself and are enforced at compile-time. Understanding how interfaces work, and how to think in terms of contracts and separation of concerns, will serve you well across different programming environments and languages.\n",
    "\n",
    "It’s worth clarifying that in Python, using the `Protocol` class is a way to define what’s called an **implicit interface**. This means you’re describing what an object should look like&mdash;what attributes and methods it should have&mdash;without requiring other classes to formally inherit from it. Because of this, protocols help keep your code more flexible and loosely connected, since different parts of your program can work together as long as they follow the same structure, even if they’re not directly related. This approach fits well with Python’s \"duck typing\" style: if it walks like a duck and quacks like a duck, it’s a duck. Protocols become especially useful when combined with tools like Pyright or Pylance, which can catch mistakes early by checking whether your code actually matches the interface. Next, we’ll explore how inheritance relates to interface design.\n",
    "\n",
    "## What about inheritance?\n",
    "\n",
    "You may be thinking, \"Aha! We’ve already covered classes in Lecture 1, and now we’re discussing interfaces&mdash;yet there’s been (almost) no mention of inheritance.\" That’s absolutely right, and deliberately so. As we’ll see later, inheritance can be powerful when used wisely and sparingly. But overusing it often leads to complexity and maintenance headaches. We’ll touch on these trade-offs throughout the course.\n",
    "\n",
    "> **Inheritance** is a feature in object-oriented programming that allows one class (the child or subclass) to reuse and extend the behavior of another class (the parent or superclass). It’s a way to share code between related types by building a hierarchy.\n",
    "\n",
    "Historically, inheritance was a foundational concept in object-oriented programming, intended to promote code reuse and shared behavior. However, over time, developers have encountered practical challenges&mdash;such as deep inheritance chains and tightly coupled designs&mdash;that have made inheritance harder to manage in large systems. As a result, some modern languages like Rust deliberately avoid or restrict traditional class-based inheritance in favor of composition and trait-based approaches. We'll explore these ideas and their relevance to scientific software as we go.\n",
    "\n",
    "**Compared to an implicit interface, an explicit interface requires classes to formally declare that they implement the interface, usually by inheriting from it directly**. This makes the connection more obvious in the code and can help prevent accidental mismatches. While implicit interfaces rely on structural compatibility (\"if it has the right methods, it's valid\"), explicit interfaces enforce a contract: a class must declare that it satisfies the expected behavior. To complement the *implicit* `TalkingAnimalProtocol` interface we introduced earlier, we'll now define an explicit interface for `TalkingAnimal`&mdash;a formal declaration of the behaviour we expect from any class that wants to be treated as one. Crucially, when we implement *concrete* classes, they will inherit from this interface to make that relationship clear and enforceable.\n",
    "\n",
    "So without further ado, let’s build our explicit `TalkingAnimal` interface."
   ]
  }
 ],
 "metadata": {
  "kernelspec": {
   "display_name": "learn-dev (3.13.5)",
   "language": "python",
   "name": "python3"
  },
  "language_info": {
   "codemirror_mode": {
    "name": "ipython",
    "version": 3
   },
   "file_extension": ".py",
   "mimetype": "text/x-python",
   "name": "python",
   "nbconvert_exporter": "python",
   "pygments_lexer": "ipython3",
   "version": "3.13.5"
  }
 },
 "nbformat": 4,
 "nbformat_minor": 2
}
