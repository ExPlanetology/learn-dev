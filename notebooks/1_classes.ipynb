{
 "cells": [
  {
   "cell_type": "markdown",
   "metadata": {},
   "source": [
    "# Classes and OOP\n",
    "\n",
    "I’ll begin by introducing a concept that is fundamental to object-oriented programming (OOP): **classes**. This is not intended as an endorsement of OOP over other programming paradigms, but rather a recognition that many scientists are unfamiliar with its possibilities. Often, OOP is avoided not through informed choice, but due to confusion or lack of exposure. To ease this initial hesitation, we’ll start with OOP. As the course progresses, we’ll explore common criticisms of the paradigm and discuss how to adopt the most useful aspects of OOP design, whilst discarding those that don’t serve us well.\n",
    "\n",
    "> **Note:** Ultimately, we are using classes as a segue to the concept of interfaces, which we’ll cover in Lecture 2. Interfaces allow us to define flexible, modular systems without being tied to a specific implementation&mdash;something that becomes particularly powerful when designing scientific software.\n",
    "\n",
    "OOP is a programming paradigm that organises software design around objects, which are instances of classes that can encapsulate both data (attributes) and the functions that operate on that data (methods). Using classes can significantly improve code organisation, readability, and extensibility. Whilst well-designed software doesn't *require* classes, they often offer practical benefits for managing complexity, especially in larger or more modular projects.\n",
    "\n",
    "Despite the power of classes, they remain relatively unfamiliar to many scientists and can feel intimidating at first. By demystifying classes early on, we can immediately build a strong foundation for writing more maintainable and expressive code. Most importantly, **the true value of OOP lies in learning how to think in terms of classes**&mdash;to conceptualise your scientific problem as a set of interrelated objects, each with responsibilities and behaviours. Once you can frame your research problem in this way, the coding itself becomes much easier. Syntax and implementation details can follow; **what matters most is developing the right mental model**.\n",
    "\n",
    "Following a top-down learning approach, we'll start by creating a class right away. Then, we'll gradually peel back the layers to understand how it's constructed and what functionality it offers.\n",
    "\n",
    "## Class definition\n",
    "\n",
    "Let's start by defining a `Dog` class. You can think of a class as a blueprint for a dog&mdash;it describes what a dog is (its attributes) and what a dog can do (its methods or behaviours)."
   ]
  },
  {
   "cell_type": "code",
   "execution_count": null,
   "metadata": {},
   "outputs": [],
   "source": [
    "class Dog:\n",
    "    \"\"\"A dog\n",
    "\n",
    "    Args:\n",
    "        name: Name\n",
    "        age: Age\n",
    "\n",
    "    Attributes:\n",
    "        species: Species\n",
    "        name: Name\n",
    "        age: Age\n",
    "    \"\"\"\n",
    "\n",
    "    # Class attribute (shared across all Dog instances unless overridden)\n",
    "    species: str = \"Canis familiaris\"\n",
    "\n",
    "    def __init__(self, name: str, age: float) -> None:\n",
    "        self.name: str = name  # Instance attribute\n",
    "        self.age: float = age  # Instance attribute\n",
    "\n",
    "    def speak(self) -> str:\n",
    "        \"\"\"Barks\"\"\"\n",
    "        return f\"{self.name} says woof!\"\n",
    "\n",
    "    def say_hello(self, friend: str) -> str:\n",
    "        \"\"\"Say hello to a friend\"\"\"\n",
    "        return f\"{self.name} says woof! to {friend}\""
   ]
  },
  {
   "cell_type": "markdown",
   "metadata": {},
   "source": [
    "**Explanation**:\n",
    "\n",
    "1. Class Definition:\n",
    "\n",
    "    - The `class` keyword is used to define a class, in this case, a class named `Dog`. A class serves as a **blueprint** for creating objects, specifing the attributes (like ``name`` and ``age``) that each dog should have, as well as the actions it can perform (known as **methods**, such as ``speak()``).\n",
    "\n",
    "    - `species` is defined directly inside the class body, not within `__init__`, making it a **class attribute**. All `Dog` instances will share the same value for `species`, unless it's explicitly overridden on a per-instance basis.\n",
    "\n",
    "2. Initialiser/Constructor Method (`__init__`):\n",
    "\n",
    "    - The `__init__` method is a special method called an initialiser (or loosely, constructor). It is automatically invoked when a new instance (object) of the class is created.\n",
    "\n",
    "    - `self` is a reference to the current instance of the class. It is used to access or assign attributes that belong to that instance. Whilst `self` is not a reserved keyword, it is the widely adopted convention in Python.\n",
    "\n",
    "    - `name` and `age` are parameters passed when creating an instance of the `Dog` class. These are assigned to instance attributes `self.name` and `self.age`, which store data specific to that object.\n",
    "\n",
    "    - `__init__` is an example of a \"dunder\" method&mdash;short for double underscore. Python uses many such methods to provide special behaviour or hooks into the language's internals. These methods typically shouldn't be called directly by your code, but rather are invoked automatically by Python in specific situations.\n",
    "\n",
    "3. Instance Methods:\n",
    "\n",
    "    - The `speak` method is an instance method, meaning it operates on a specific object and has access to its data through the `self` parameter.\n",
    "\n",
    "    - This method returns a string using `self.name` to personalise the output. This demonstrates how the method's behaviour can reflect the state of the individual object it belongs to.\n",
    "\n",
    "    - The `say_hello` method is also an instance method, which accepts an argument `friend` that is used in the return string."
   ]
  },
  {
   "cell_type": "markdown",
   "metadata": {},
   "source": [
    "**And breath!** You've only just encountered your first class, and already you've been dropped into the deep end&mdash;not just with the concept of a class itself, but also with a good deal of technical detail about how it's constructed. That's completely normal. It’s expected that you’ll need some time to absorb the terminology, and you may find yourself referring back to this section as the practical value of using classes becomes clearer.\n",
    "\n",
    "So now, without further ado, let's take a step back and *play* with the class to see how it works in practice.\n",
    "\n",
    "## Using classes\n",
    "\n",
    "We'll begin by creating an instance of the `Dog` class with the name `\"Rocket\"` and age `3`:"
   ]
  },
  {
   "cell_type": "code",
   "execution_count": null,
   "metadata": {},
   "outputs": [],
   "source": [
    "my_dog: Dog = Dog(\"Rocket\", 3)"
   ]
  },
  {
   "cell_type": "markdown",
   "metadata": {},
   "source": [
    "We can access the attributes of the instance:"
   ]
  },
  {
   "cell_type": "code",
   "execution_count": null,
   "metadata": {},
   "outputs": [],
   "source": [
    "name: str = my_dog.name\n",
    "age: float = my_dog.age\n",
    "print(\"name: \", name)\n",
    "print(\"age: \", age)"
   ]
  },
  {
   "cell_type": "markdown",
   "metadata": {},
   "source": [
    "We can ask `my_dog` to `speak`:"
   ]
  },
  {
   "cell_type": "code",
   "execution_count": null,
   "metadata": {},
   "outputs": [],
   "source": [
    "my_dog.speak()"
   ]
  },
  {
   "cell_type": "markdown",
   "metadata": {},
   "source": [
    "And say hello to a friend:"
   ]
  },
  {
   "cell_type": "code",
   "execution_count": null,
   "metadata": {},
   "outputs": [],
   "source": [
    "my_dog.say_hello(\"Marie Curie\")"
   ]
  },
  {
   "cell_type": "markdown",
   "metadata": {},
   "source": [
    "We can also modify the attributes and then call the ``speak()`` method again. As you'd expect, the method now uses the updated values, and this change is reflected in the output. This demonstrates that our class is resilient to stale data: since methods access attributes dynamically at the time they're called, they always reflect the most current state of the object."
   ]
  },
  {
   "cell_type": "code",
   "execution_count": null,
   "metadata": {},
   "outputs": [],
   "source": [
    "my_dog.name = \"Rakete\"\n",
    "my_dog.speak()"
   ]
  },
  {
   "cell_type": "markdown",
   "metadata": {},
   "source": [
    "This example highlights one of the core advantages of using classes in OOP: **encapsulation**.  Encapsulation is the practice of bundling together data (attributes) and the methods (functions) that operate on that data within a single, cohesive unit&mdash;often a class.\n",
    "\n",
    "At a broader level, **modularity** refers to organising a programme into distinct, self-contained components or modules. Whilst encapsulation operates at the level of individual objects, and modularity at the level of the programme structure, both concepts offer overlapping and powerful benefits that support writing robust, maintainable, and resuable code.\n",
    "\n",
    "**Key Benefits:**\n",
    "\n",
    "1. *Separation of Concerns*: Clearly defines boundaries and responsibilities, reducing interdependencies and making code easier to reason about.\n",
    "\n",
    "2. *Reusability*: Promotes the creation of components that can be reused across different parts of the application or even in entirely different projects.\n",
    "\n",
    "3. *Maintainability*: Makes it easier to update, refactor, or enhance the system by isolating changes to specific, well-defined sections of code.\n",
    "\n",
    "4. *Testability*: Enables testing of individual components in isolation, improving reliability and easing the debugging process."
   ]
  },
  {
   "cell_type": "markdown",
   "metadata": {},
   "source": [
    "Let's consider these benefits in the context of the `Dog` class we created. First, the `Dog` class is uniquely tasked with defining the properties and actions of a dog, thus abiding to the *separation of concerns* principle. Furthermore, we can *reuse* the `Dog` class to create many dogs in various parts of the code:"
   ]
  },
  {
   "cell_type": "code",
   "execution_count": null,
   "metadata": {},
   "outputs": [],
   "source": [
    "barney: Dog = Dog(\"barney\", 3)\n",
    "cyril: Dog = Dog(\"cyril\", 6)\n",
    "trevor: Dog = Dog(\"trevor\", 10)"
   ]
  },
  {
   "cell_type": "markdown",
   "metadata": {},
   "source": [
    "Finally, the `Dog` class promotes *maintainability* and *testability* since it is self-contained. If we want to add a new feature that is dog-related, we only have to add it to the `Dog` class. There are other advantages of OOP that we will visit later in the course.\n",
    "\n",
    "## Class vs. instance attributes\n",
    "\n",
    "This section highlights the specific behavior of class attributes in Python, which can differ from their counterparts in other programming languages. The interaction between class attributes and instance attributes is a common source of confusion and sometimes bugs for those new to object-oriented programming in Python.\n",
    "\n",
    "When we defined the `Dog` class, we also introduced a *class attribute* called `species`. Let's now see how this attribute is accessed via the `my_dog` object&mdash;where, as expected, it returns the string value we set in the class definition:"
   ]
  },
  {
   "cell_type": "code",
   "execution_count": null,
   "metadata": {},
   "outputs": [],
   "source": [
    "my_dog.species"
   ]
  },
  {
   "cell_type": "markdown",
   "metadata": {},
   "source": [
    "Now, let's change the value of the `species` (class) attibute on the `Dog` class itself:"
   ]
  },
  {
   "cell_type": "code",
   "execution_count": null,
   "metadata": {},
   "outputs": [],
   "source": [
    "Dog.species = \"Alien dog\""
   ]
  },
  {
   "cell_type": "markdown",
   "metadata": {},
   "source": [
    "This change is reflected in `my_dog`, which was an object created from `Dog`:"
   ]
  },
  {
   "cell_type": "code",
   "execution_count": null,
   "metadata": {},
   "outputs": [],
   "source": [
    "my_dog.species"
   ]
  },
  {
   "cell_type": "markdown",
   "metadata": {},
   "source": [
    "So far, so good. But where does the potential for confusion lie, you might be wondering? The subtlety arises when we update the `species` attribute on `my_dog`, which remember, is an *instance* of the `Dog` class. At this point we're no longer changing the class-level attribute shared by all instances; instead, we're creating a new *instance attribute* that shadows the original class attribute."
   ]
  },
  {
   "cell_type": "code",
   "execution_count": null,
   "metadata": {},
   "outputs": [],
   "source": [
    "my_dog.species = \"Non felem\"\n",
    "my_dog.species"
   ]
  },
  {
   "cell_type": "markdown",
   "metadata": {},
   "source": [
    "And if we look again at `Dog.species`, we can see that its attribute hasn't changed&mdash;which is expected, because we've only overridden the attribute on the `my_dog` instance, not on the class itself:"
   ]
  },
  {
   "cell_type": "code",
   "execution_count": null,
   "metadata": {},
   "outputs": [],
   "source": [
    "Dog.species"
   ]
  },
  {
   "cell_type": "markdown",
   "metadata": {},
   "source": [
    "This interplay between class and instance attributes introduces two foundational concepts in traditional object-oriented programming (OOP): inheritance, where an object acquires attributes or behavior from classes above it, and overriding, where those inherited elements are redefined to suit a specific need. When understood and applied thoughtfully, these mechanisms offer great flexibility and power, but if misunderstood, they can become a common source of confusion and bugs.\n",
    "\n",
    "> **Note:** In Python, attributes can be created on the fly by assigning them directly to an instance (e.g., `my_dog.new_attribute = value`). While this dynamic and flexible feature can be appealing at first, it is generally discouraged because the class structure is defined by `Dog`, which does not include that attribute. Adding attributes dynamically can break the intended class design and often leads to unpredictable or hard-to-maintain code—especially as projects grow larger and more complex.\n",
    "\n",
    "## Defining your own classes\n",
    "\n",
    "Are you excited to start using classes? I hope so! While the description above may have seemed technical, you now have a powerful tool to write cleaner, more organized code.\n",
    "\n",
    "A natural question then arises: how should I design my classes, and how many should I have in my project?. **This strikes at a core skill of a software developer, which is a high-level vision of the essential components in your system and how they interact**.\n",
    "\n",
    "Be cautious of creating too many classes, which can lead to a so-called **Class Explosion**. This term describes a situation where the number of classes grows uncontrollably or becomes excessively large, making the codebase harder to maintain, read, and understand. Class explosions often result from over-engineering or poor design decisions in object-oriented programming.\n",
    "\n",
    "Remember, classes can encapsulate data and functionality together, just data, or just behavior. Moreover, classes can contain other classes, opening up a wide range of design possibilities. The potential is truly endless! There are many more advanced features of classes that we will explore in future lectures to further expand their power and utility. For now, the goal is simply for you to become comfortable with using classes.\n",
    "\n",
    "A common sticking point for new users is understanding that classes don’t always need to represent tangible, real-world objects (like dogs or other animals). It’s natural to begin by modeling concrete, familiar components of your project as classes. However, as your design matures, you’ll often create classes that represent more abstract concepts&mdash;components that interact with one another in increasingly sophisticated ways.\n",
    "\n",
    "## Exercises\n",
    "\n",
    "With the `Dog` class:\n",
    "\n",
    "1. Experiment with the `Dog` class, either by modifying it directly in this notebook or by copying it into your own notebook or script:\n",
    "\n",
    "    - Add new functionality, such as a `walk` or `play` method.\n",
    "    - Introduce additional attributes that might be relevant, and incorporate them into the class `__init__` method.\n",
    "    - Change an attribute's value after creating an instance and observe how this affects the behavior of the instance’s methods.\n",
    "    - Modify instance methods to accept additional arguments. For example, try passing another `Dog` instance as an argument to a method and perform some interaction or action between the two.\n",
    "\n",
    "For your own software project(s):\n",
    "\n",
    "2. At a high level, **conceptualise the classes you could potentially create** based on your project’s objectives, the current structure of your code, and any programming language constraints. Through a process of triage, decide which classes should be prioritised. Which class implementations would provide the most immediate benefit to the organisation, structure, and long-term maintainability of your software?\n",
    "\n",
    "    > **Tip:** Start simple. Begin with a small number of essential classes that solve immediate needs, then gradually expand and refine your design as your project evolves.\n",
    "\n",
    "3. Try writing one of these classes! One advantage of classes is that they can be developed independently from your current codebase. Once you’ve tested a class in isolation, you can gradually integrate it by replacing existing data containers (such as dictionaries or lists) and related functions."
   ]
  }
 ],
 "metadata": {
  "kernelspec": {
   "display_name": "learn-dev (3.13.5)",
   "language": "python",
   "name": "python3"
  },
  "language_info": {
   "codemirror_mode": {
    "name": "ipython",
    "version": 3
   },
   "file_extension": ".py",
   "mimetype": "text/x-python",
   "name": "python",
   "nbconvert_exporter": "python",
   "pygments_lexer": "ipython3",
   "version": "3.13.5"
  }
 },
 "nbformat": 4,
 "nbformat_minor": 2
}
