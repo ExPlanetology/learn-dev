{
 "cells": [
  {
   "cell_type": "markdown",
   "id": "c12b47a5",
   "metadata": {},
   "source": [
    "# Epilogue\n",
    "\n",
    "And there we have it&mdash;the end of the course! Your mind is likely buzzing with new concepts and ideas about how to improve your scientific programming and structure your research around sustainable software practices. Mastery will take time, but with persistence, you’ll be rewarded with software projects that are robust, maintainable, and extensible. Even better, you’ll benefit from a global audience who may not only use your work but also contribute to its ongoing development!"
   ]
  }
 ],
 "metadata": {
  "language_info": {
   "name": "python"
  }
 },
 "nbformat": 4,
 "nbformat_minor": 5
}
